{
 "cells": [
  {
   "cell_type": "code",
   "execution_count": 1,
   "metadata": {},
   "outputs": [
    {
     "name": "stderr",
     "output_type": "stream",
     "text": [
      "e:\\Anaconda\\envs\\myproject1\\lib\\site-packages\\InstructorEmbedding\\instructor.py:7: TqdmExperimentalWarning: Using `tqdm.autonotebook.tqdm` in notebook mode. Use `tqdm.tqdm` instead to force console mode (e.g. in jupyter console)\n",
      "  from tqdm.autonotebook import trange\n"
     ]
    },
    {
     "name": "stdout",
     "output_type": "stream",
     "text": [
      "load INSTRUCTOR_Transformer\n"
     ]
    },
    {
     "name": "stderr",
     "output_type": "stream",
     "text": [
      "e:\\Anaconda\\envs\\myproject1\\lib\\site-packages\\bitsandbytes\\cextension.py:34: UserWarning: The installed version of bitsandbytes was compiled without GPU support. 8-bit optimizers, 8-bit multiplication, and GPU quantization are unavailable.\n",
      "  warn(\"The installed version of bitsandbytes was compiled without GPU support. \"\n"
     ]
    },
    {
     "name": "stdout",
     "output_type": "stream",
     "text": [
      "function 'cadam32bit_grad_fp32' not found\n",
      "max_seq_length  512\n"
     ]
    }
   ],
   "source": [
    "import pandas as pd\n",
    "import numpy as np\n",
    "from InstructorEmbedding import INSTRUCTOR\n",
    "from sklearn.metrics.pairwise import cosine_similarity\n",
    "\n",
    "model = INSTRUCTOR(\"F:\\\\工作以及比赛\\\\大一统框架\\\\dd\\\\try2\\\\t1\\\\model\")"
   ]
  },
  {
   "cell_type": "code",
   "execution_count": 14,
   "metadata": {},
   "outputs": [
    {
     "name": "stdout",
     "output_type": "stream",
     "text": [
      ".....\n",
      ".....\n",
      ".....\n",
      ".....\n",
      ".....\n",
      ".....\n",
      ".....\n",
      ".....\n",
      ".....\n",
      ".....\n",
      ".....\n",
      ".....\n",
      ".....\n",
      ".....\n",
      ".....\n",
      ".....\n"
     ]
    }
   ],
   "source": [
    "import glob\n",
    "import fitz\n",
    "\n",
    "pdf_source = glob.glob('./pdf_source/*.pdf')\n",
    "pdf_metadata = []\n",
    "for ipdf in pdf_source :\n",
    "    try :\n",
    "       ipageText = \"\"\n",
    "       pdfLearn = fitz.open(ipdf)\n",
    "       for page in pdfLearn :\n",
    "          ipageText += page.get_text(\"text\")\n",
    "       pdf_metadata.append({\"metadata\":pdfLearn.metadata,\"pageText\":ipageText})\n",
    "    except :\n",
    "       print('.....')"
   ]
  },
  {
   "cell_type": "code",
   "execution_count": 15,
   "metadata": {},
   "outputs": [],
   "source": [
    "content = pd.read_csv('./data.csv').iloc[:,1]\n",
    "metadata_info = pd.Series(content).tolist()"
   ]
  },
  {
   "cell_type": "code",
   "execution_count": 16,
   "metadata": {},
   "outputs": [],
   "source": [
    "content_list = [f\"./classcontent/t{i}.txt\" for i in range(1,5)]\n",
    "cc_list = []\n",
    "for content in content_list :\n",
    "    with open(content,\"r\",encoding=\"utf8\") as f :\n",
    "       cc_list.append(f.read())"
   ]
  },
  {
   "cell_type": "code",
   "execution_count": 17,
   "metadata": {},
   "outputs": [],
   "source": [
    "# 生成pdf向量\n",
    "pdf_vec = model.encode(metadata_info)\n",
    "# 生成content向量\n",
    "content_vec = model.encode(cc_list)"
   ]
  },
  {
   "cell_type": "code",
   "execution_count": 18,
   "metadata": {},
   "outputs": [],
   "source": [
    "result = []\n",
    "for i in range(content_vec.shape[0]) :\n",
    "    result.append(cosine_similarity(pdf_vec,content_vec[i,:].reshape(1,-1)).reshape(-1))\n",
    "\n",
    "result = np.array(result).transpose()"
   ]
  },
  {
   "cell_type": "code",
   "execution_count": 19,
   "metadata": {},
   "outputs": [],
   "source": [
    "result_class = result.argmax(axis=1)"
   ]
  },
  {
   "cell_type": "code",
   "execution_count": 20,
   "metadata": {},
   "outputs": [],
   "source": [
    "# 得到类别为1的向量索引\n",
    "index_0 = pd.DataFrame(result_class)[result_class==0].index.tolist()\n",
    "# 得到类别为2的向量索引\n",
    "index_1 = pd.DataFrame(result_class)[result_class==1].index.tolist()\n",
    "# 得到类别为3的向量索引\n",
    "index_2 = pd.DataFrame(result_class)[result_class==2].index.tolist()\n",
    "# 得到类别为4的向量索引\n",
    "index_3 = pd.DataFrame(result_class)[result_class==3].index.tolist()"
   ]
  },
  {
   "cell_type": "code",
   "execution_count": 21,
   "metadata": {},
   "outputs": [
    {
     "name": "stdout",
     "output_type": "stream",
     "text": [
      "index_0: 583\n",
      "index_1: 125\n",
      "index_2: 1115\n",
      "index_3: 340\n"
     ]
    }
   ],
   "source": [
    "# 查看分类长度\n",
    "print(\"index_0:\",len(index_0))\n",
    "print(\"index_1:\",len(index_1))\n",
    "print(\"index_2:\",len(index_2))\n",
    "print(\"index_3:\",len(index_3))"
   ]
  },
  {
   "cell_type": "code",
   "execution_count": 22,
   "metadata": {},
   "outputs": [],
   "source": [
    "# 获取类别为1的文献库\n",
    "pdf_store1 = np.array(pdf_metadata)[index_0]\n",
    "# 获取类别为2的文献库\n",
    "pdf_store2 = np.array(pdf_metadata)[index_1]\n",
    "# 获取类别为3的文献库\n",
    "pdf_store3 = np.array(pdf_metadata)[index_2]\n",
    "# 获取类别为4的文献库\n",
    "pdf_store4 = np.array(pdf_metadata)[index_3]"
   ]
  },
  {
   "cell_type": "code",
   "execution_count": 23,
   "metadata": {},
   "outputs": [],
   "source": [
    "# 数据持久化\n",
    "pd.DataFrame(pdf_store1).to_json(\"./pdf_store/pdf_store1.json\")\n",
    "pd.DataFrame(pdf_store2).to_json(\"./pdf_store/pdf_store2.json\")\n",
    "pd.DataFrame(pdf_store3).to_json(\"./pdf_store/pdf_store3.json\")\n",
    "pd.DataFrame(pdf_store4).to_json(\"./pdf_store/pdf_store4.json\")"
   ]
  },
  {
   "cell_type": "code",
   "execution_count": null,
   "metadata": {},
   "outputs": [],
   "source": []
  }
 ],
 "metadata": {
  "kernelspec": {
   "display_name": "myproject1",
   "language": "python",
   "name": "python3"
  },
  "language_info": {
   "codemirror_mode": {
    "name": "ipython",
    "version": 3
   },
   "file_extension": ".py",
   "mimetype": "text/x-python",
   "name": "python",
   "nbconvert_exporter": "python",
   "pygments_lexer": "ipython3",
   "version": "3.9.0"
  },
  "orig_nbformat": 4
 },
 "nbformat": 4,
 "nbformat_minor": 2
}
