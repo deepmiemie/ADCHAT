{
 "cells": [
  {
   "cell_type": "code",
   "execution_count": 2,
   "metadata": {},
   "outputs": [
    {
     "name": "stderr",
     "output_type": "stream",
     "text": [
      "e:\\Python\\lib\\site-packages\\InstructorEmbedding\\instructor.py:7: TqdmExperimentalWarning: Using `tqdm.autonotebook.tqdm` in notebook mode. Use `tqdm.tqdm` instead to force console mode (e.g. in jupyter console)\n",
      "  from tqdm.autonotebook import trange\n"
     ]
    }
   ],
   "source": [
    "import pandas as pd\n",
    "import numpy as np\n",
    "from InstructorEmbedding import INSTRUCTOR\n",
    "from sklearn.metrics.pairwise import cosine_similarity\n",
    "import replicate\n",
    "import json\n",
    "import torch\n",
    "import torch.nn as nn"
   ]
  },
  {
   "cell_type": "code",
   "execution_count": 2,
   "metadata": {},
   "outputs": [],
   "source": [
    "import torch\n",
    "\n",
    "torch.cuda.empty_cache()"
   ]
  },
  {
   "cell_type": "code",
   "execution_count": 3,
   "metadata": {},
   "outputs": [
    {
     "name": "stdout",
     "output_type": "stream",
     "text": [
      "load INSTRUCTOR_Transformer\n",
      "max_seq_length  512\n"
     ]
    }
   ],
   "source": [
    "# 读取本地模型文件\n",
    "model = INSTRUCTOR(\"F:\\\\工作以及比赛\\\\大一统框架\\\\dd\\\\try2\\\\t1\\\\model\")"
   ]
  },
  {
   "cell_type": "code",
   "execution_count": 4,
   "metadata": {},
   "outputs": [],
   "source": [
    "v = model.encode(\"dafdasfdasfdsa\")"
   ]
  },
  {
   "cell_type": "code",
   "execution_count": 7,
   "metadata": {},
   "outputs": [
    {
     "data": {
      "text/plain": [
       "(768,)"
      ]
     },
     "execution_count": 7,
     "metadata": {},
     "output_type": "execute_result"
    }
   ],
   "source": [
    "v.shape"
   ]
  },
  {
   "cell_type": "markdown",
   "metadata": {},
   "source": [
    "# 根据问题进行分类"
   ]
  },
  {
   "cell_type": "code",
   "execution_count": 4,
   "metadata": {},
   "outputs": [
    {
     "data": {
      "text/plain": [
       "network(\n",
       "  (model): Sequential(\n",
       "    (0): Linear(in_features=768, out_features=244, bias=True)\n",
       "    (1): ReLU()\n",
       "    (2): Dropout(p=0.32255092815907316, inplace=False)\n",
       "    (3): Linear(in_features=244, out_features=4, bias=True)\n",
       "  )\n",
       ")"
      ]
     },
     "execution_count": 4,
     "metadata": {},
     "output_type": "execute_result"
    }
   ],
   "source": [
    "# 加载网络结构参数\n",
    "with open(\"../1.准确定向问题/model_struct.json\",\"r\") as f :\n",
    "    content = f.read()\n",
    "model_struct = json.loads(content)\n",
    "\n",
    "# 定义网络结构\n",
    "class network(nn.Module) :\n",
    "    def __init__(self,input_size,hidden_size,drop_prod,num_layers,activate_func) :\n",
    "        super().__init__()\n",
    "        # 激活函数可供选择\n",
    "        if activate_func == 'relu' :\n",
    "            acf = nn.ReLU()\n",
    "        elif activate_func == 'sigmoid' :\n",
    "            acf = nn.Sigmoid()\n",
    "        elif activate_func == 'tanh' :\n",
    "            acf = nn.Tanh()\n",
    "        \n",
    "        layer_list = [\n",
    "            nn.Linear(in_features = input_size,out_features = hidden_size,bias = True),\n",
    "            acf,\n",
    "            nn.Dropout(p=drop_prod),\n",
    "        ]\n",
    "\n",
    "        for i in range(num_layers-1) :\n",
    "            layer_list.append(nn.Linear(in_features = hidden_size,out_features = hidden_size,bias = True))\n",
    "            layer_list.append(acf)\n",
    "            layer_list.append(nn.Dropout(p=drop_prod))\n",
    "        \n",
    "        layer_list.append(nn.Linear(in_features = hidden_size,out_features = 4 ,bias = True))\n",
    "        self.model = nn.Sequential(*layer_list)\n",
    "\n",
    "    def forward(self,x) :\n",
    "        return self.model(x)\n",
    "\n",
    "# 定义网络结构参数\n",
    "hidden_size = model_struct[\"hidden_size\"]\n",
    "drop_prod = model_struct[\"drop_prod\"]\n",
    "num_layers = model_struct[\"num_layers\"]\n",
    "activate_func = model_struct[\"activate_func\"]\n",
    "\n",
    "# 定义模型\n",
    "model_custom = network(input_size=768,hidden_size=int(hidden_size),drop_prod=drop_prod,num_layers=int(num_layers),activate_func=[\"relu\",\"sigmoid\",\"tanh\"][int(activate_func)])\n",
    "\n",
    "# 加载模型参数\n",
    "model_custom.load_state_dict(torch.load(\"../1.准确定向问题/model_params.pth\"))\n",
    "model_custom.eval()"
   ]
  },
  {
   "cell_type": "code",
   "execution_count": 5,
   "metadata": {},
   "outputs": [
    {
     "data": {
      "text/plain": [
       "tensor(1)"
      ]
     },
     "execution_count": 5,
     "metadata": {},
     "output_type": "execute_result"
    }
   ],
   "source": [
    "# 给定一个问题\n",
    "question = \"Why are nitrogen source materials like ammonia and urea added to the process?\"\n",
    "\n",
    "# 对问题进行编码\n",
    "question_vec = model.encode(question)\n",
    "\n",
    "# 求解问题分类\n",
    "class_type = model_custom(torch.Tensor(question_vec)).argmax() + 1\n",
    "class_type"
   ]
  },
  {
   "cell_type": "code",
   "execution_count": 25,
   "metadata": {},
   "outputs": [
    {
     "data": {
      "text/plain": [
       "[1]"
      ]
     },
     "execution_count": 25,
     "metadata": {},
     "output_type": "execute_result"
    }
   ],
   "source": [
    "a1 = [None,1]\n",
    "a1.pop(0)\n",
    "a1"
   ]
  },
  {
   "cell_type": "markdown",
   "metadata": {},
   "source": [
    "# 定制私有类的大模型"
   ]
  },
  {
   "cell_type": "code",
   "execution_count": 6,
   "metadata": {},
   "outputs": [],
   "source": [
    "with open(f\"./classcontent/t{class_type}.txt\",\"r\",encoding=\"utf8\") as f :\n",
    "    add_prompt = f.read()"
   ]
  },
  {
   "cell_type": "code",
   "execution_count": 7,
   "metadata": {},
   "outputs": [],
   "source": [
    "template=\"\"\"\n",
    "You are an expert in the field of anaerobic fermentation. Based on a thorough understanding of the literature, you also have a basic knowledge of the following\n",
    "{base_know}\n",
    "Please answer in the following format.\n",
    "first, Briefly summarize the answers.\n",
    "second, Answer the question in more detail and logically, explaining every detail of the question in more detail. The format is\n",
    "    (1) Sub-explanation\n",
    "    (2) Sub-explanation\n",
    "etc...\n",
    "Sub-explanation should not be limited to two, usually three or more;\n",
    "finally, Summarize all the above conclusions and further explain the problem.\n",
    "\n",
    "{context}\n",
    "\n",
    "{chat_history}\n",
    "The question you are about to answer is:\n",
    "{question}\n",
    "answer:\n",
    "\n",
    "\"\"\""
   ]
  },
  {
   "cell_type": "code",
   "execution_count": null,
   "metadata": {},
   "outputs": [],
   "source": [
    "class_type = 4\n",
    "# 读取私有类知识库\n",
    "pra_store = pd.read_json(f\"../2.准确定向文献/pdf_store/pdf_store{class_type}.json\").reset_index(drop=True).iloc[:,0].tolist()\n",
    "\n",
    "# 获得私有类知识库的encode\n",
    "pra_page_text = [i[\"pageText\"] for i in pra_store]\n",
    "pra_pdf_vec = model.encode(pra_page_text)\n",
    "\n",
    "# 保存为csv暂存\n",
    "pd.DataFrame(pra_pdf_vec).to_csv(f\"./pra_pdf/pra_pdf_vec{class_type}.csv\")\n",
    "\n",
    "# 读取csv\n",
    "np.array(pd.read_csv(f\"./pra_pdf/pra_pdf_vec{class_type}.csv\"))[:,1::]"
   ]
  },
  {
   "cell_type": "code",
   "execution_count": 17,
   "metadata": {},
   "outputs": [
    {
     "data": {
      "text/plain": [
       "'{\"0\": {\"format\": \"PDF 1.3\", \"title\": \"es501098g 1..8\", \"author\": \"\", \"subject\": \"\", \"keywords\": \"\", \"creator\": \"Arbortext Advanced Print Publisher 10.0.1465/W Unicode\", \"producer\": \"Acrobat Distiller 8.1.0 (Windows)\", \"creationDate\": \"D:20140512160419-04\\'00\\'\", \"modDate\": \"D:20140512160419-04\\'00\\'\", \"trapped\": \"\", \"encryption\": null}, \"1\": {\"format\": \"PDF 1.4\", \"title\": \"\", \"author\": \"\", \"subject\": \"\", \"keywords\": \"\", \"creator\": \"3B2 Total Publishing System 8.07e/W Unicode \", \"producer\": \"Acrobat Distiller 9.5.0 (Windows)\", \"creationDate\": \"D:20140111074249+08\\'00\\'\", \"modDate\": \"D:20140111110727+08\\'00\\'\", \"trapped\": \"\", \"encryption\": null}, \"2\": {\"format\": \"PDF 1.7\", \"title\": \"Comparative survival of viruses during thermophilic and mesophilic anaerobic digestion\", \"author\": \"\", \"subject\": \"\", \"keywords\": \"\", \"creator\": \"Elsevier\", \"producer\": \"Acrobat Distiller 10.0.0 (Windows)\", \"creationDate\": \"D:20171106135621+08\\'00\\'\", \"modDate\": \"D:20171108124933Z00\\'00\\'\", \"trapped\": \"\", \"encryption\": null}, \"3\": {\"format\": \"PDF 1.7\", \"title\": \"Changes of resistome, mobilome and potential hosts of antibiotic resistance genes during the transformation of anaerobic digestion from mesophilic to thermophilic\", \"author\": \"Zhe Tian\", \"subject\": \"Water Research, 98 (2016) 261-269. doi:10.1016/j.watres.2016.04.031\", \"keywords\": \"\", \"creator\": \"Elsevier\", \"producer\": \"Acrobat Distiller 8.1.0 (Windows)\", \"creationDate\": \"D:20160511214743+05\\'30\\'\", \"modDate\": \"D:20160511214815+05\\'30\\'\", \"trapped\": \"\", \"encryption\": null}, \"4\": {\"format\": \"PDF 1.7\", \"title\": \"Profiles and drivers of antibiotic resistance genes distribution in one-stage and two-stage sludge anaerobic digestion based on microwave-H2O2 pretreatment\", \"author\": \"Junya Zhang\", \"subject\": \"Bioresource Technology, 241 (2017) 573-581. doi:10.1016/j.biortech.2017.05.157\", \"keywords\": \"\", \"creator\": \"Elsevier\", \"producer\": \"Acrobat Distiller 8.0.0 (Windows)\", \"creationDate\": \"D:20170708093335+05\\'30\\'\", \"modDate\": \"D:20170708093449+05\\'30\\'\", \"trapped\": \"\", \"encryption\": null}, \"5\": {\"format\": \"PDF 1.7\", \"title\": \"Active microbial communities during biodegradation of biodegradable plastics by mesophilic and thermophilic anaerobic digestion\", \"author\": \"G. Cazaudehore\", \"subject\": \"Journal of Hazardous Materials, 443 (2023) 130208. doi:10.1016/j.jhazmat.2022.130208\", \"keywords\": \"Biochemical methane potential,Microbial diversity,Polymer degradation,Poly(lactic acid),Polyhydroxybutyrate\", \"creator\": \"Elsevier\", \"producer\": \"Acrobat Distiller 8.1.0 (Windows)\", \"creationDate\": \"D:20221107191741Z\", \"modDate\": \"D:20221107193141Z\", \"trapped\": \"\", \"encryption\": null}, \"6\": {\"format\": \"PDF 1.7\", \"title\": \"Fate of extracellular polymeric substances of anaerobically digested sewage sludge during pre-dewatering conditioning with Acidithiobacillus ferrooxidans culture\", \"author\": \"Kumarasamy Murugesan\", \"subject\": \"Bioresource Technology, 217 (2016) 173-178. doi:10.1016/j.biortech.2016.03.081\", \"keywords\": \"\", \"creator\": \"Elsevier\", \"producer\": \"Acrobat Distiller 8.0.0 (Windows)\", \"creationDate\": \"D:20160718082607+05\\'30\\'\", \"modDate\": \"D:20160718082639+05\\'30\\'\", \"trapped\": \"\", \"encryption\": null}, \"7\": {\"format\": \"PDF 1.7\", \"title\": \"Fate of antibiotic resistance genes and its drivers during anaerobic co-digestion of food waste and sewage sludge based on microwave pretreatment\", \"author\": \"Junya Zhang\", \"subject\": \"Bioresource Technology, 217 (2016) 28-36. doi:10.1016/j.biortech.2016.02.140\", \"keywords\": \"\", \"creator\": \"Elsevier\", \"producer\": \"Acrobat Distiller 8.0.0 (Windows)\", \"creationDate\": \"D:20160718084418+05\\'30\\'\", \"modDate\": \"D:20160718084440+05\\'30\\'\", \"trapped\": \"\", \"encryption\": null}, \"8\": {\"format\": \"PDF 1.7\", \"title\": \"Bio-electrolytic sensor for rapid monitoring of volatile fatty acids in anaerobic digestion process\", \"author\": \"Xiangdan Jin\", \"subject\": \"Water Research, 111 (2017) 74-80. doi:10.1016/j.watres.2016.12.045\", \"keywords\": \"\", \"creator\": \"Elsevier\", \"producer\": \"Acrobat Distiller 8.1.0 (Windows)\", \"creationDate\": \"D:20170210231159+05\\'30\\'\", \"modDate\": \"D:20170210231229+05\\'30\\'\", \"trapped\": \"\", \"encryption\": null}, \"9\": {\"format\": \"PDF 1.7\", \"title\": \"Flux analysis of the human proximal colon using anaerobic digestion model 1\", \"author\": \"Anne Marieke Motelica-Wagenaar\", \"subject\": \"Anaerobe, 28 (2014) 137-148. doi:10.1016/j.anaerobe.2014.05.008\", \"keywords\": \"\", \"creator\": \"Elsevier\", \"producer\": \"Acrobat Distiller 8.1.0 (Windows)\", \"creationDate\": \"D:20140806232251+05\\'30\\'\", \"modDate\": \"D:20140806232335+05\\'30\\'\", \"trapped\": \"\", \"encryption\": null}}'"
      ]
     },
     "execution_count": 17,
     "metadata": {},
     "output_type": "execute_result"
    }
   ],
   "source": [
    "# 进行相似度分析\n",
    "result_q2p = cosine_similarity(pra_pdf_vec,question_vec.reshape(1,-1))\n",
    "\n",
    "# 给出期望读取文献的索引\n",
    "max_len = 10\n",
    "read_content_index = result_q2p.argsort(axis=0)[0:max_len]\n",
    "\n",
    "# 给出期望读取的文献详细信息以及内容\n",
    "read_content_metadata = np.array(pra_store)[read_content_index.transpose()]\n",
    "expect_metadata = []\n",
    "expect_content = \"\"\n",
    "\n",
    "for i in range(max_len) :\n",
    "    all =  read_content_metadata[0,i]\n",
    "    expect_metadata.append(all[\"metadata\"])\n",
    "    expect_content += all[\"pageText\"]\n",
    "\n",
    "# 数据持久化(提供给后端)\n",
    "# pd.DataFrame(expect_metadata).transpose().to_json(\"./toback.json\")\n",
    "\n",
    "# 提供给前端\n",
    "json.dumps(pd.DataFrame(expect_metadata).transpose().to_dict())"
   ]
  },
  {
   "cell_type": "code",
   "execution_count": 15,
   "metadata": {},
   "outputs": [
    {
     "data": {
      "text/plain": [
       "'{\"0\": {\"format\": \"PDF 1.3\", \"title\": \"es501098g 1..8\", \"author\": \"\", \"subject\": \"\", \"keywords\": \"\", \"creator\": \"Arbortext Advanced Print Publisher 10.0.1465/W Unicode\", \"producer\": \"Acrobat Distiller 8.1.0 (Windows)\", \"creationDate\": \"D:20140512160419-04\\'00\\'\", \"modDate\": \"D:20140512160419-04\\'00\\'\", \"trapped\": \"\", \"encryption\": null}, \"1\": {\"format\": \"PDF 1.4\", \"title\": \"\", \"author\": \"\", \"subject\": \"\", \"keywords\": \"\", \"creator\": \"3B2 Total Publishing System 8.07e/W Unicode \", \"producer\": \"Acrobat Distiller 9.5.0 (Windows)\", \"creationDate\": \"D:20140111074249+08\\'00\\'\", \"modDate\": \"D:20140111110727+08\\'00\\'\", \"trapped\": \"\", \"encryption\": null}, \"2\": {\"format\": \"PDF 1.7\", \"title\": \"Comparative survival of viruses during thermophilic and mesophilic anaerobic digestion\", \"author\": \"\", \"subject\": \"\", \"keywords\": \"\", \"creator\": \"Elsevier\", \"producer\": \"Acrobat Distiller 10.0.0 (Windows)\", \"creationDate\": \"D:20171106135621+08\\'00\\'\", \"modDate\": \"D:20171108124933Z00\\'00\\'\", \"trapped\": \"\", \"encryption\": null}, \"3\": {\"format\": \"PDF 1.7\", \"title\": \"Changes of resistome, mobilome and potential hosts of antibiotic resistance genes during the transformation of anaerobic digestion from mesophilic to thermophilic\", \"author\": \"Zhe Tian\", \"subject\": \"Water Research, 98 (2016) 261-269. doi:10.1016/j.watres.2016.04.031\", \"keywords\": \"\", \"creator\": \"Elsevier\", \"producer\": \"Acrobat Distiller 8.1.0 (Windows)\", \"creationDate\": \"D:20160511214743+05\\'30\\'\", \"modDate\": \"D:20160511214815+05\\'30\\'\", \"trapped\": \"\", \"encryption\": null}, \"4\": {\"format\": \"PDF 1.7\", \"title\": \"Profiles and drivers of antibiotic resistance genes distribution in one-stage and two-stage sludge anaerobic digestion based on microwave-H2O2 pretreatment\", \"author\": \"Junya Zhang\", \"subject\": \"Bioresource Technology, 241 (2017) 573-581. doi:10.1016/j.biortech.2017.05.157\", \"keywords\": \"\", \"creator\": \"Elsevier\", \"producer\": \"Acrobat Distiller 8.0.0 (Windows)\", \"creationDate\": \"D:20170708093335+05\\'30\\'\", \"modDate\": \"D:20170708093449+05\\'30\\'\", \"trapped\": \"\", \"encryption\": null}, \"5\": {\"format\": \"PDF 1.7\", \"title\": \"Active microbial communities during biodegradation of biodegradable plastics by mesophilic and thermophilic anaerobic digestion\", \"author\": \"G. Cazaudehore\", \"subject\": \"Journal of Hazardous Materials, 443 (2023) 130208. doi:10.1016/j.jhazmat.2022.130208\", \"keywords\": \"Biochemical methane potential,Microbial diversity,Polymer degradation,Poly(lactic acid),Polyhydroxybutyrate\", \"creator\": \"Elsevier\", \"producer\": \"Acrobat Distiller 8.1.0 (Windows)\", \"creationDate\": \"D:20221107191741Z\", \"modDate\": \"D:20221107193141Z\", \"trapped\": \"\", \"encryption\": null}, \"6\": {\"format\": \"PDF 1.7\", \"title\": \"Fate of extracellular polymeric substances of anaerobically digested sewage sludge during pre-dewatering conditioning with Acidithiobacillus ferrooxidans culture\", \"author\": \"Kumarasamy Murugesan\", \"subject\": \"Bioresource Technology, 217 (2016) 173-178. doi:10.1016/j.biortech.2016.03.081\", \"keywords\": \"\", \"creator\": \"Elsevier\", \"producer\": \"Acrobat Distiller 8.0.0 (Windows)\", \"creationDate\": \"D:20160718082607+05\\'30\\'\", \"modDate\": \"D:20160718082639+05\\'30\\'\", \"trapped\": \"\", \"encryption\": null}, \"7\": {\"format\": \"PDF 1.7\", \"title\": \"Fate of antibiotic resistance genes and its drivers during anaerobic co-digestion of food waste and sewage sludge based on microwave pretreatment\", \"author\": \"Junya Zhang\", \"subject\": \"Bioresource Technology, 217 (2016) 28-36. doi:10.1016/j.biortech.2016.02.140\", \"keywords\": \"\", \"creator\": \"Elsevier\", \"producer\": \"Acrobat Distiller 8.0.0 (Windows)\", \"creationDate\": \"D:20160718084418+05\\'30\\'\", \"modDate\": \"D:20160718084440+05\\'30\\'\", \"trapped\": \"\", \"encryption\": null}, \"8\": {\"format\": \"PDF 1.7\", \"title\": \"Bio-electrolytic sensor for rapid monitoring of volatile fatty acids in anaerobic digestion process\", \"author\": \"Xiangdan Jin\", \"subject\": \"Water Research, 111 (2017) 74-80. doi:10.1016/j.watres.2016.12.045\", \"keywords\": \"\", \"creator\": \"Elsevier\", \"producer\": \"Acrobat Distiller 8.1.0 (Windows)\", \"creationDate\": \"D:20170210231159+05\\'30\\'\", \"modDate\": \"D:20170210231229+05\\'30\\'\", \"trapped\": \"\", \"encryption\": null}, \"9\": {\"format\": \"PDF 1.7\", \"title\": \"Flux analysis of the human proximal colon using anaerobic digestion model 1\", \"author\": \"Anne Marieke Motelica-Wagenaar\", \"subject\": \"Anaerobe, 28 (2014) 137-148. doi:10.1016/j.anaerobe.2014.05.008\", \"keywords\": \"\", \"creator\": \"Elsevier\", \"producer\": \"Acrobat Distiller 8.1.0 (Windows)\", \"creationDate\": \"D:20140806232251+05\\'30\\'\", \"modDate\": \"D:20140806232335+05\\'30\\'\", \"trapped\": \"\", \"encryption\": null}}'"
      ]
     },
     "execution_count": 15,
     "metadata": {},
     "output_type": "execute_result"
    }
   ],
   "source": []
  },
  {
   "cell_type": "code",
   "execution_count": 10,
   "metadata": {},
   "outputs": [],
   "source": [
    "# 定义prompt\n",
    "prompt = template.format(question = question , context = expect_content , chat_history = [] , base_know = add_prompt)\n",
    "\n",
    "# 定义推理参数\n",
    "input_kwarg = {\n",
    "    \"prompt\": prompt,\n",
    "    \"top_p\":1,\n",
    "    # \"max_length\":8000,\n",
    "    \"temperature\":0.75,\n",
    "    \"repetition_penalty\":1,\n",
    "    \"max_new_tokens\":2000,\n",
    "}"
   ]
  },
  {
   "cell_type": "code",
   "execution_count": 11,
   "metadata": {},
   "outputs": [
    {
     "ename": "ProxyError",
     "evalue": "HTTPSConnectionPool(host='api.replicate.com', port=443): Max retries exceeded with url: /v1/models/meta/llama-2-13b-chat/versions/f4e2de70d66816a838a89eeeb621910adffb0dd0baba3976c96980970978018d (Caused by ProxyError('Unable to connect to proxy', SSLError(SSLEOFError(8, 'EOF occurred in violation of protocol (_ssl.c:1122)'))))",
     "output_type": "error",
     "traceback": [
      "\u001b[1;31m---------------------------------------------------------------------------\u001b[0m",
      "\u001b[1;31mSSLError\u001b[0m                                  Traceback (most recent call last)",
      "\u001b[1;31mSSLError\u001b[0m: EOF occurred in violation of protocol (_ssl.c:1122)",
      "\nThe above exception was the direct cause of the following exception:\n",
      "\u001b[1;31mProxyError\u001b[0m                                Traceback (most recent call last)",
      "\u001b[1;31mProxyError\u001b[0m: ('Unable to connect to proxy', SSLError(SSLEOFError(8, 'EOF occurred in violation of protocol (_ssl.c:1122)')))",
      "\nThe above exception was the direct cause of the following exception:\n",
      "\u001b[1;31mMaxRetryError\u001b[0m                             Traceback (most recent call last)",
      "File \u001b[1;32me:\\Anaconda\\envs\\myproject1\\lib\\site-packages\\requests\\adapters.py:486\u001b[0m, in \u001b[0;36mHTTPAdapter.send\u001b[1;34m(self, request, stream, timeout, verify, cert, proxies)\u001b[0m\n\u001b[0;32m    485\u001b[0m \u001b[39mtry\u001b[39;00m:\n\u001b[1;32m--> 486\u001b[0m     resp \u001b[39m=\u001b[39m conn\u001b[39m.\u001b[39;49murlopen(\n\u001b[0;32m    487\u001b[0m         method\u001b[39m=\u001b[39;49mrequest\u001b[39m.\u001b[39;49mmethod,\n\u001b[0;32m    488\u001b[0m         url\u001b[39m=\u001b[39;49murl,\n\u001b[0;32m    489\u001b[0m         body\u001b[39m=\u001b[39;49mrequest\u001b[39m.\u001b[39;49mbody,\n\u001b[0;32m    490\u001b[0m         headers\u001b[39m=\u001b[39;49mrequest\u001b[39m.\u001b[39;49mheaders,\n\u001b[0;32m    491\u001b[0m         redirect\u001b[39m=\u001b[39;49m\u001b[39mFalse\u001b[39;49;00m,\n\u001b[0;32m    492\u001b[0m         assert_same_host\u001b[39m=\u001b[39;49m\u001b[39mFalse\u001b[39;49;00m,\n\u001b[0;32m    493\u001b[0m         preload_content\u001b[39m=\u001b[39;49m\u001b[39mFalse\u001b[39;49;00m,\n\u001b[0;32m    494\u001b[0m         decode_content\u001b[39m=\u001b[39;49m\u001b[39mFalse\u001b[39;49;00m,\n\u001b[0;32m    495\u001b[0m         retries\u001b[39m=\u001b[39;49m\u001b[39mself\u001b[39;49m\u001b[39m.\u001b[39;49mmax_retries,\n\u001b[0;32m    496\u001b[0m         timeout\u001b[39m=\u001b[39;49mtimeout,\n\u001b[0;32m    497\u001b[0m         chunked\u001b[39m=\u001b[39;49mchunked,\n\u001b[0;32m    498\u001b[0m     )\n\u001b[0;32m    500\u001b[0m \u001b[39mexcept\u001b[39;00m (ProtocolError, \u001b[39mOSError\u001b[39;00m) \u001b[39mas\u001b[39;00m err:\n",
      "File \u001b[1;32me:\\Anaconda\\envs\\myproject1\\lib\\site-packages\\urllib3\\connectionpool.py:874\u001b[0m, in \u001b[0;36mHTTPConnectionPool.urlopen\u001b[1;34m(self, method, url, body, headers, retries, redirect, assert_same_host, timeout, pool_timeout, release_conn, chunked, body_pos, preload_content, decode_content, **response_kw)\u001b[0m\n\u001b[0;32m    871\u001b[0m     log\u001b[39m.\u001b[39mwarning(\n\u001b[0;32m    872\u001b[0m         \u001b[39m\"\u001b[39m\u001b[39mRetrying (\u001b[39m\u001b[39m%r\u001b[39;00m\u001b[39m) after connection broken by \u001b[39m\u001b[39m'\u001b[39m\u001b[39m%r\u001b[39;00m\u001b[39m'\u001b[39m\u001b[39m: \u001b[39m\u001b[39m%s\u001b[39;00m\u001b[39m\"\u001b[39m, retries, err, url\n\u001b[0;32m    873\u001b[0m     )\n\u001b[1;32m--> 874\u001b[0m     \u001b[39mreturn\u001b[39;00m \u001b[39mself\u001b[39m\u001b[39m.\u001b[39murlopen(\n\u001b[0;32m    875\u001b[0m         method,\n\u001b[0;32m    876\u001b[0m         url,\n\u001b[0;32m    877\u001b[0m         body,\n\u001b[0;32m    878\u001b[0m         headers,\n\u001b[0;32m    879\u001b[0m         retries,\n\u001b[0;32m    880\u001b[0m         redirect,\n\u001b[0;32m    881\u001b[0m         assert_same_host,\n\u001b[0;32m    882\u001b[0m         timeout\u001b[39m=\u001b[39mtimeout,\n\u001b[0;32m    883\u001b[0m         pool_timeout\u001b[39m=\u001b[39mpool_timeout,\n\u001b[0;32m    884\u001b[0m         release_conn\u001b[39m=\u001b[39mrelease_conn,\n\u001b[0;32m    885\u001b[0m         chunked\u001b[39m=\u001b[39mchunked,\n\u001b[0;32m    886\u001b[0m         body_pos\u001b[39m=\u001b[39mbody_pos,\n\u001b[0;32m    887\u001b[0m         preload_content\u001b[39m=\u001b[39mpreload_content,\n\u001b[0;32m    888\u001b[0m         decode_content\u001b[39m=\u001b[39mdecode_content,\n\u001b[0;32m    889\u001b[0m         \u001b[39m*\u001b[39m\u001b[39m*\u001b[39mresponse_kw,\n\u001b[0;32m    890\u001b[0m     )\n\u001b[0;32m    892\u001b[0m \u001b[39m# Handle redirect?\u001b[39;00m\n",
      "File \u001b[1;32me:\\Anaconda\\envs\\myproject1\\lib\\site-packages\\urllib3\\connectionpool.py:874\u001b[0m, in \u001b[0;36mHTTPConnectionPool.urlopen\u001b[1;34m(self, method, url, body, headers, retries, redirect, assert_same_host, timeout, pool_timeout, release_conn, chunked, body_pos, preload_content, decode_content, **response_kw)\u001b[0m\n\u001b[0;32m    871\u001b[0m     log\u001b[39m.\u001b[39mwarning(\n\u001b[0;32m    872\u001b[0m         \u001b[39m\"\u001b[39m\u001b[39mRetrying (\u001b[39m\u001b[39m%r\u001b[39;00m\u001b[39m) after connection broken by \u001b[39m\u001b[39m'\u001b[39m\u001b[39m%r\u001b[39;00m\u001b[39m'\u001b[39m\u001b[39m: \u001b[39m\u001b[39m%s\u001b[39;00m\u001b[39m\"\u001b[39m, retries, err, url\n\u001b[0;32m    873\u001b[0m     )\n\u001b[1;32m--> 874\u001b[0m     \u001b[39mreturn\u001b[39;00m \u001b[39mself\u001b[39m\u001b[39m.\u001b[39murlopen(\n\u001b[0;32m    875\u001b[0m         method,\n\u001b[0;32m    876\u001b[0m         url,\n\u001b[0;32m    877\u001b[0m         body,\n\u001b[0;32m    878\u001b[0m         headers,\n\u001b[0;32m    879\u001b[0m         retries,\n\u001b[0;32m    880\u001b[0m         redirect,\n\u001b[0;32m    881\u001b[0m         assert_same_host,\n\u001b[0;32m    882\u001b[0m         timeout\u001b[39m=\u001b[39mtimeout,\n\u001b[0;32m    883\u001b[0m         pool_timeout\u001b[39m=\u001b[39mpool_timeout,\n\u001b[0;32m    884\u001b[0m         release_conn\u001b[39m=\u001b[39mrelease_conn,\n\u001b[0;32m    885\u001b[0m         chunked\u001b[39m=\u001b[39mchunked,\n\u001b[0;32m    886\u001b[0m         body_pos\u001b[39m=\u001b[39mbody_pos,\n\u001b[0;32m    887\u001b[0m         preload_content\u001b[39m=\u001b[39mpreload_content,\n\u001b[0;32m    888\u001b[0m         decode_content\u001b[39m=\u001b[39mdecode_content,\n\u001b[0;32m    889\u001b[0m         \u001b[39m*\u001b[39m\u001b[39m*\u001b[39mresponse_kw,\n\u001b[0;32m    890\u001b[0m     )\n\u001b[0;32m    892\u001b[0m \u001b[39m# Handle redirect?\u001b[39;00m\n",
      "    \u001b[1;31m[... skipping similar frames: HTTPConnectionPool.urlopen at line 874 (2 times)]\u001b[0m\n",
      "File \u001b[1;32me:\\Anaconda\\envs\\myproject1\\lib\\site-packages\\urllib3\\connectionpool.py:874\u001b[0m, in \u001b[0;36mHTTPConnectionPool.urlopen\u001b[1;34m(self, method, url, body, headers, retries, redirect, assert_same_host, timeout, pool_timeout, release_conn, chunked, body_pos, preload_content, decode_content, **response_kw)\u001b[0m\n\u001b[0;32m    871\u001b[0m     log\u001b[39m.\u001b[39mwarning(\n\u001b[0;32m    872\u001b[0m         \u001b[39m\"\u001b[39m\u001b[39mRetrying (\u001b[39m\u001b[39m%r\u001b[39;00m\u001b[39m) after connection broken by \u001b[39m\u001b[39m'\u001b[39m\u001b[39m%r\u001b[39;00m\u001b[39m'\u001b[39m\u001b[39m: \u001b[39m\u001b[39m%s\u001b[39;00m\u001b[39m\"\u001b[39m, retries, err, url\n\u001b[0;32m    873\u001b[0m     )\n\u001b[1;32m--> 874\u001b[0m     \u001b[39mreturn\u001b[39;00m \u001b[39mself\u001b[39m\u001b[39m.\u001b[39murlopen(\n\u001b[0;32m    875\u001b[0m         method,\n\u001b[0;32m    876\u001b[0m         url,\n\u001b[0;32m    877\u001b[0m         body,\n\u001b[0;32m    878\u001b[0m         headers,\n\u001b[0;32m    879\u001b[0m         retries,\n\u001b[0;32m    880\u001b[0m         redirect,\n\u001b[0;32m    881\u001b[0m         assert_same_host,\n\u001b[0;32m    882\u001b[0m         timeout\u001b[39m=\u001b[39mtimeout,\n\u001b[0;32m    883\u001b[0m         pool_timeout\u001b[39m=\u001b[39mpool_timeout,\n\u001b[0;32m    884\u001b[0m         release_conn\u001b[39m=\u001b[39mrelease_conn,\n\u001b[0;32m    885\u001b[0m         chunked\u001b[39m=\u001b[39mchunked,\n\u001b[0;32m    886\u001b[0m         body_pos\u001b[39m=\u001b[39mbody_pos,\n\u001b[0;32m    887\u001b[0m         preload_content\u001b[39m=\u001b[39mpreload_content,\n\u001b[0;32m    888\u001b[0m         decode_content\u001b[39m=\u001b[39mdecode_content,\n\u001b[0;32m    889\u001b[0m         \u001b[39m*\u001b[39m\u001b[39m*\u001b[39mresponse_kw,\n\u001b[0;32m    890\u001b[0m     )\n\u001b[0;32m    892\u001b[0m \u001b[39m# Handle redirect?\u001b[39;00m\n",
      "File \u001b[1;32me:\\Anaconda\\envs\\myproject1\\lib\\site-packages\\urllib3\\connectionpool.py:844\u001b[0m, in \u001b[0;36mHTTPConnectionPool.urlopen\u001b[1;34m(self, method, url, body, headers, retries, redirect, assert_same_host, timeout, pool_timeout, release_conn, chunked, body_pos, preload_content, decode_content, **response_kw)\u001b[0m\n\u001b[0;32m    842\u001b[0m     new_e \u001b[39m=\u001b[39m ProtocolError(\u001b[39m\"\u001b[39m\u001b[39mConnection aborted.\u001b[39m\u001b[39m\"\u001b[39m, new_e)\n\u001b[1;32m--> 844\u001b[0m retries \u001b[39m=\u001b[39m retries\u001b[39m.\u001b[39;49mincrement(\n\u001b[0;32m    845\u001b[0m     method, url, error\u001b[39m=\u001b[39;49mnew_e, _pool\u001b[39m=\u001b[39;49m\u001b[39mself\u001b[39;49m, _stacktrace\u001b[39m=\u001b[39;49msys\u001b[39m.\u001b[39;49mexc_info()[\u001b[39m2\u001b[39;49m]\n\u001b[0;32m    846\u001b[0m )\n\u001b[0;32m    847\u001b[0m retries\u001b[39m.\u001b[39msleep()\n",
      "File \u001b[1;32me:\\Anaconda\\envs\\myproject1\\lib\\site-packages\\urllib3\\util\\retry.py:515\u001b[0m, in \u001b[0;36mRetry.increment\u001b[1;34m(self, method, url, response, error, _pool, _stacktrace)\u001b[0m\n\u001b[0;32m    514\u001b[0m     reason \u001b[39m=\u001b[39m error \u001b[39mor\u001b[39;00m ResponseError(cause)\n\u001b[1;32m--> 515\u001b[0m     \u001b[39mraise\u001b[39;00m MaxRetryError(_pool, url, reason) \u001b[39mfrom\u001b[39;00m \u001b[39mreason\u001b[39;00m  \u001b[39m# type: ignore[arg-type]\u001b[39;00m\n\u001b[0;32m    517\u001b[0m log\u001b[39m.\u001b[39mdebug(\u001b[39m\"\u001b[39m\u001b[39mIncremented Retry for (url=\u001b[39m\u001b[39m'\u001b[39m\u001b[39m%s\u001b[39;00m\u001b[39m'\u001b[39m\u001b[39m): \u001b[39m\u001b[39m%r\u001b[39;00m\u001b[39m\"\u001b[39m, url, new_retry)\n",
      "\u001b[1;31mMaxRetryError\u001b[0m: HTTPSConnectionPool(host='api.replicate.com', port=443): Max retries exceeded with url: /v1/models/meta/llama-2-13b-chat/versions/f4e2de70d66816a838a89eeeb621910adffb0dd0baba3976c96980970978018d (Caused by ProxyError('Unable to connect to proxy', SSLError(SSLEOFError(8, 'EOF occurred in violation of protocol (_ssl.c:1122)'))))",
      "\nDuring handling of the above exception, another exception occurred:\n",
      "\u001b[1;31mProxyError\u001b[0m                                Traceback (most recent call last)",
      "\u001b[1;32mf:\\工作以及比赛\\大一统框架\\dd\\try2\\app\\backproject\\app01\\all_function\\3更加准确的gpt\\dddd.ipynb 单元格 13\u001b[0m line \u001b[0;36m2\n\u001b[0;32m      <a href='vscode-notebook-cell:/f%3A/%E5%B7%A5%E4%BD%9C%E4%BB%A5%E5%8F%8A%E6%AF%94%E8%B5%9B/%E5%A4%A7%E4%B8%80%E7%BB%9F%E6%A1%86%E6%9E%B6/dd/try2/app/backproject/app01/all_function/3%E6%9B%B4%E5%8A%A0%E5%87%86%E7%A1%AE%E7%9A%84gpt/dddd.ipynb#X15sZmlsZQ%3D%3D?line=0'>1</a>\u001b[0m \u001b[39m# 定义推理api\u001b[39;00m\n\u001b[1;32m----> <a href='vscode-notebook-cell:/f%3A/%E5%B7%A5%E4%BD%9C%E4%BB%A5%E5%8F%8A%E6%AF%94%E8%B5%9B/%E5%A4%A7%E4%B8%80%E7%BB%9F%E6%A1%86%E6%9E%B6/dd/try2/app/backproject/app01/all_function/3%E6%9B%B4%E5%8A%A0%E5%87%86%E7%A1%AE%E7%9A%84gpt/dddd.ipynb#X15sZmlsZQ%3D%3D?line=1'>2</a>\u001b[0m o1 \u001b[39m=\u001b[39m replicate\u001b[39m.\u001b[39;49mrun(\n\u001b[0;32m      <a href='vscode-notebook-cell:/f%3A/%E5%B7%A5%E4%BD%9C%E4%BB%A5%E5%8F%8A%E6%AF%94%E8%B5%9B/%E5%A4%A7%E4%B8%80%E7%BB%9F%E6%A1%86%E6%9E%B6/dd/try2/app/backproject/app01/all_function/3%E6%9B%B4%E5%8A%A0%E5%87%86%E7%A1%AE%E7%9A%84gpt/dddd.ipynb#X15sZmlsZQ%3D%3D?line=2'>3</a>\u001b[0m         \u001b[39m# \"meta/llama-2-70b-chat:02e509c789964a7ea8736978a43525956ef40397be9033abf9fd2badfe68c9e3\",\u001b[39;49;00m\n\u001b[0;32m      <a href='vscode-notebook-cell:/f%3A/%E5%B7%A5%E4%BD%9C%E4%BB%A5%E5%8F%8A%E6%AF%94%E8%B5%9B/%E5%A4%A7%E4%B8%80%E7%BB%9F%E6%A1%86%E6%9E%B6/dd/try2/app/backproject/app01/all_function/3%E6%9B%B4%E5%8A%A0%E5%87%86%E7%A1%AE%E7%9A%84gpt/dddd.ipynb#X15sZmlsZQ%3D%3D?line=3'>4</a>\u001b[0m         \u001b[39m\"\u001b[39;49m\u001b[39mmeta/llama-2-13b-chat:f4e2de70d66816a838a89eeeb621910adffb0dd0baba3976c96980970978018d\u001b[39;49m\u001b[39m\"\u001b[39;49m,\n\u001b[0;32m      <a href='vscode-notebook-cell:/f%3A/%E5%B7%A5%E4%BD%9C%E4%BB%A5%E5%8F%8A%E6%AF%94%E8%B5%9B/%E5%A4%A7%E4%B8%80%E7%BB%9F%E6%A1%86%E6%9E%B6/dd/try2/app/backproject/app01/all_function/3%E6%9B%B4%E5%8A%A0%E5%87%86%E7%A1%AE%E7%9A%84gpt/dddd.ipynb#X15sZmlsZQ%3D%3D?line=4'>5</a>\u001b[0m         \u001b[39m# \"meta/llama-2-7b:527827021d8756c7ab79fde0abbfaac885c37a3ed5fe23c7465093f0878d55ef\",\u001b[39;49;00m\n\u001b[0;32m      <a href='vscode-notebook-cell:/f%3A/%E5%B7%A5%E4%BD%9C%E4%BB%A5%E5%8F%8A%E6%AF%94%E8%B5%9B/%E5%A4%A7%E4%B8%80%E7%BB%9F%E6%A1%86%E6%9E%B6/dd/try2/app/backproject/app01/all_function/3%E6%9B%B4%E5%8A%A0%E5%87%86%E7%A1%AE%E7%9A%84gpt/dddd.ipynb#X15sZmlsZQ%3D%3D?line=5'>6</a>\u001b[0m         \u001b[39minput\u001b[39;49m\u001b[39m=\u001b[39;49minput_kwarg\n\u001b[0;32m      <a href='vscode-notebook-cell:/f%3A/%E5%B7%A5%E4%BD%9C%E4%BB%A5%E5%8F%8A%E6%AF%94%E8%B5%9B/%E5%A4%A7%E4%B8%80%E7%BB%9F%E6%A1%86%E6%9E%B6/dd/try2/app/backproject/app01/all_function/3%E6%9B%B4%E5%8A%A0%E5%87%86%E7%A1%AE%E7%9A%84gpt/dddd.ipynb#X15sZmlsZQ%3D%3D?line=6'>7</a>\u001b[0m     )\n",
      "File \u001b[1;32me:\\Anaconda\\envs\\myproject1\\lib\\site-packages\\replicate\\client.py:138\u001b[0m, in \u001b[0;36mClient.run\u001b[1;34m(self, model_version, **kwargs)\u001b[0m\n\u001b[0;32m    134\u001b[0m     \u001b[39mraise\u001b[39;00m ReplicateError(\n\u001b[0;32m    135\u001b[0m         \u001b[39mf\u001b[39m\u001b[39m\"\u001b[39m\u001b[39mInvalid model_version: \u001b[39m\u001b[39m{\u001b[39;00mmodel_version\u001b[39m}\u001b[39;00m\u001b[39m. Expected format: owner/name:version\u001b[39m\u001b[39m\"\u001b[39m\n\u001b[0;32m    136\u001b[0m     )\n\u001b[0;32m    137\u001b[0m model \u001b[39m=\u001b[39m \u001b[39mself\u001b[39m\u001b[39m.\u001b[39mmodels\u001b[39m.\u001b[39mget(m\u001b[39m.\u001b[39mgroup(\u001b[39m\"\u001b[39m\u001b[39mmodel\u001b[39m\u001b[39m\"\u001b[39m))\n\u001b[1;32m--> 138\u001b[0m version \u001b[39m=\u001b[39m model\u001b[39m.\u001b[39;49mversions\u001b[39m.\u001b[39;49mget(m\u001b[39m.\u001b[39;49mgroup(\u001b[39m\"\u001b[39;49m\u001b[39mversion\u001b[39;49m\u001b[39m\"\u001b[39;49m))\n\u001b[0;32m    139\u001b[0m prediction \u001b[39m=\u001b[39m \u001b[39mself\u001b[39m\u001b[39m.\u001b[39mpredictions\u001b[39m.\u001b[39mcreate(version\u001b[39m=\u001b[39mversion, \u001b[39m*\u001b[39m\u001b[39m*\u001b[39mkwargs)\n\u001b[0;32m    140\u001b[0m \u001b[39m# Return an iterator of the output\u001b[39;00m\n",
      "File \u001b[1;32me:\\Anaconda\\envs\\myproject1\\lib\\site-packages\\replicate\\version.py:89\u001b[0m, in \u001b[0;36mVersionCollection.get\u001b[1;34m(self, id)\u001b[0m\n\u001b[0;32m     80\u001b[0m \u001b[39mdef\u001b[39;00m \u001b[39mget\u001b[39m(\u001b[39mself\u001b[39m, \u001b[39mid\u001b[39m: \u001b[39mstr\u001b[39m) \u001b[39m-\u001b[39m\u001b[39m>\u001b[39m Version:\n\u001b[0;32m     81\u001b[0m \u001b[39m    \u001b[39m\u001b[39m\"\"\"\u001b[39;00m\n\u001b[0;32m     82\u001b[0m \u001b[39m    Get a specific model version.\u001b[39;00m\n\u001b[0;32m     83\u001b[0m \n\u001b[1;32m   (...)\u001b[0m\n\u001b[0;32m     87\u001b[0m \u001b[39m        The model version.\u001b[39;00m\n\u001b[0;32m     88\u001b[0m \u001b[39m    \"\"\"\u001b[39;00m\n\u001b[1;32m---> 89\u001b[0m     resp \u001b[39m=\u001b[39m \u001b[39mself\u001b[39;49m\u001b[39m.\u001b[39;49m_client\u001b[39m.\u001b[39;49m_request(\n\u001b[0;32m     90\u001b[0m         \u001b[39m\"\u001b[39;49m\u001b[39mGET\u001b[39;49m\u001b[39m\"\u001b[39;49m, \u001b[39mf\u001b[39;49m\u001b[39m\"\u001b[39;49m\u001b[39m/v1/models/\u001b[39;49m\u001b[39m{\u001b[39;49;00m\u001b[39mself\u001b[39;49m\u001b[39m.\u001b[39;49m_model\u001b[39m.\u001b[39;49musername\u001b[39m}\u001b[39;49;00m\u001b[39m/\u001b[39;49m\u001b[39m{\u001b[39;49;00m\u001b[39mself\u001b[39;49m\u001b[39m.\u001b[39;49m_model\u001b[39m.\u001b[39;49mname\u001b[39m}\u001b[39;49;00m\u001b[39m/versions/\u001b[39;49m\u001b[39m{\u001b[39;49;00m\u001b[39mid\u001b[39;49m\u001b[39m}\u001b[39;49;00m\u001b[39m\"\u001b[39;49m\n\u001b[0;32m     91\u001b[0m     )\n\u001b[0;32m     92\u001b[0m     \u001b[39mreturn\u001b[39;00m \u001b[39mself\u001b[39m\u001b[39m.\u001b[39mprepare_model(resp\u001b[39m.\u001b[39mjson())\n",
      "File \u001b[1;32me:\\Anaconda\\envs\\myproject1\\lib\\site-packages\\replicate\\client.py:77\u001b[0m, in \u001b[0;36mClient._request\u001b[1;34m(self, method, path, **kwargs)\u001b[0m\n\u001b[0;32m     75\u001b[0m \u001b[39mif\u001b[39;00m method \u001b[39min\u001b[39;00m [\u001b[39m\"\u001b[39m\u001b[39mPOST\u001b[39m\u001b[39m\"\u001b[39m, \u001b[39m\"\u001b[39m\u001b[39mPUT\u001b[39m\u001b[39m\"\u001b[39m, \u001b[39m\"\u001b[39m\u001b[39mDELETE\u001b[39m\u001b[39m\"\u001b[39m, \u001b[39m\"\u001b[39m\u001b[39mPATCH\u001b[39m\u001b[39m\"\u001b[39m]:\n\u001b[0;32m     76\u001b[0m     session \u001b[39m=\u001b[39m \u001b[39mself\u001b[39m\u001b[39m.\u001b[39mwrite_session\n\u001b[1;32m---> 77\u001b[0m resp \u001b[39m=\u001b[39m session\u001b[39m.\u001b[39mrequest(method, \u001b[39mself\u001b[39m\u001b[39m.\u001b[39mbase_url \u001b[39m+\u001b[39m path, \u001b[39m*\u001b[39m\u001b[39m*\u001b[39mkwargs)\n\u001b[0;32m     78\u001b[0m \u001b[39mif\u001b[39;00m \u001b[39m400\u001b[39m \u001b[39m<\u001b[39m\u001b[39m=\u001b[39m resp\u001b[39m.\u001b[39mstatus_code \u001b[39m<\u001b[39m \u001b[39m600\u001b[39m:\n\u001b[0;32m     79\u001b[0m     \u001b[39mtry\u001b[39;00m:\n",
      "File \u001b[1;32me:\\Anaconda\\envs\\myproject1\\lib\\site-packages\\requests\\sessions.py:589\u001b[0m, in \u001b[0;36mSession.request\u001b[1;34m(self, method, url, params, data, headers, cookies, files, auth, timeout, allow_redirects, proxies, hooks, stream, verify, cert, json)\u001b[0m\n\u001b[0;32m    584\u001b[0m send_kwargs \u001b[39m=\u001b[39m {\n\u001b[0;32m    585\u001b[0m     \u001b[39m\"\u001b[39m\u001b[39mtimeout\u001b[39m\u001b[39m\"\u001b[39m: timeout,\n\u001b[0;32m    586\u001b[0m     \u001b[39m\"\u001b[39m\u001b[39mallow_redirects\u001b[39m\u001b[39m\"\u001b[39m: allow_redirects,\n\u001b[0;32m    587\u001b[0m }\n\u001b[0;32m    588\u001b[0m send_kwargs\u001b[39m.\u001b[39mupdate(settings)\n\u001b[1;32m--> 589\u001b[0m resp \u001b[39m=\u001b[39m \u001b[39mself\u001b[39m\u001b[39m.\u001b[39msend(prep, \u001b[39m*\u001b[39m\u001b[39m*\u001b[39msend_kwargs)\n\u001b[0;32m    591\u001b[0m \u001b[39mreturn\u001b[39;00m resp\n",
      "File \u001b[1;32me:\\Anaconda\\envs\\myproject1\\lib\\site-packages\\requests\\sessions.py:703\u001b[0m, in \u001b[0;36mSession.send\u001b[1;34m(self, request, **kwargs)\u001b[0m\n\u001b[0;32m    700\u001b[0m start \u001b[39m=\u001b[39m preferred_clock()\n\u001b[0;32m    702\u001b[0m \u001b[39m# Send the request\u001b[39;00m\n\u001b[1;32m--> 703\u001b[0m r \u001b[39m=\u001b[39m adapter\u001b[39m.\u001b[39msend(request, \u001b[39m*\u001b[39m\u001b[39m*\u001b[39mkwargs)\n\u001b[0;32m    705\u001b[0m \u001b[39m# Total elapsed time of the request (approximately)\u001b[39;00m\n\u001b[0;32m    706\u001b[0m elapsed \u001b[39m=\u001b[39m preferred_clock() \u001b[39m-\u001b[39m start\n",
      "File \u001b[1;32me:\\Anaconda\\envs\\myproject1\\lib\\site-packages\\requests\\adapters.py:513\u001b[0m, in \u001b[0;36mHTTPAdapter.send\u001b[1;34m(self, request, stream, timeout, verify, cert, proxies)\u001b[0m\n\u001b[0;32m    510\u001b[0m     \u001b[39mraise\u001b[39;00m RetryError(e, request\u001b[39m=\u001b[39mrequest)\n\u001b[0;32m    512\u001b[0m \u001b[39mif\u001b[39;00m \u001b[39misinstance\u001b[39m(e\u001b[39m.\u001b[39mreason, _ProxyError):\n\u001b[1;32m--> 513\u001b[0m     \u001b[39mraise\u001b[39;00m ProxyError(e, request\u001b[39m=\u001b[39mrequest)\n\u001b[0;32m    515\u001b[0m \u001b[39mif\u001b[39;00m \u001b[39misinstance\u001b[39m(e\u001b[39m.\u001b[39mreason, _SSLError):\n\u001b[0;32m    516\u001b[0m     \u001b[39m# This branch is for urllib3 v1.22 and later.\u001b[39;00m\n\u001b[0;32m    517\u001b[0m     \u001b[39mraise\u001b[39;00m SSLError(e, request\u001b[39m=\u001b[39mrequest)\n",
      "\u001b[1;31mProxyError\u001b[0m: HTTPSConnectionPool(host='api.replicate.com', port=443): Max retries exceeded with url: /v1/models/meta/llama-2-13b-chat/versions/f4e2de70d66816a838a89eeeb621910adffb0dd0baba3976c96980970978018d (Caused by ProxyError('Unable to connect to proxy', SSLError(SSLEOFError(8, 'EOF occurred in violation of protocol (_ssl.c:1122)'))))"
     ]
    }
   ],
   "source": [
    "# 定义推理api\n",
    "o1 = replicate.run(\n",
    "        # \"meta/llama-2-70b-chat:02e509c789964a7ea8736978a43525956ef40397be9033abf9fd2badfe68c9e3\",\n",
    "        \"meta/llama-2-13b-chat:f4e2de70d66816a838a89eeeb621910adffb0dd0baba3976c96980970978018d\",\n",
    "        # \"meta/llama-2-7b:527827021d8756c7ab79fde0abbfaac885c37a3ed5fe23c7465093f0878d55ef\",\n",
    "        input=input_kwarg\n",
    "    )"
   ]
  }
 ],
 "metadata": {
  "kernelspec": {
   "display_name": "myproject1",
   "language": "python",
   "name": "python3"
  },
  "language_info": {
   "codemirror_mode": {
    "name": "ipython",
    "version": 3
   },
   "file_extension": ".py",
   "mimetype": "text/x-python",
   "name": "python",
   "nbconvert_exporter": "python",
   "pygments_lexer": "ipython3",
   "version": "3.9.13"
  },
  "orig_nbformat": 4
 },
 "nbformat": 4,
 "nbformat_minor": 2
}
